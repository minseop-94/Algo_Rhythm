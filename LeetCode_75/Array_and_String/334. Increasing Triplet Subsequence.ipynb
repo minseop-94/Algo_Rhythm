{
 "cells": [
  {
   "cell_type": "markdown",
   "metadata": {},
   "source": [
    "### level : middle\n",
    "# Problem description\n",
    "Given an integer array nums, return true if there exists a triple of indices (i, j, k) such that i < j < k and nums[i] < nums[j] < nums[k]. If no such indices exists, return false.\n",
    "\n",
    " \n",
    "\n",
    "### Example 1:\n",
    "\n",
    "Input: nums = [1,2,3,4,5]\n",
    "\n",
    "Output: true\n",
    "\n",
    "Explanation: Any triplet where i < j < k is valid.\n",
    "\n",
    "### Example 2:\n",
    "\n",
    "Input: nums = [5,4,3,2,1]\n",
    "\n",
    "Output: false\n",
    "\n",
    "Explanation: No triplet exists.\n",
    "\n",
    "### Example 3:\n",
    "\n",
    "Input: nums = [2,1,5,0,4,6]\n",
    "\n",
    "Output: true\n",
    "\n",
    "Explanation: The triplet (3, 4, 5) is valid because nums[3] == 0 < nums[4] == 4 < nums[5] == 6.\n",
    " \n",
    "---\n",
    "Constraints:\n",
    "\n",
    "1 <= nums.length <= 5 * 105\n",
    "\n",
    "-231 <= nums[i] <= 231 - 1\n",
    " \n",
    "\n",
    "Follow up: Could you implement a solution that runs in O(n) time complexity and O(1) space complexity?\n",
    "        "
   ]
  },
  {
   "cell_type": "code",
   "execution_count": null,
   "metadata": {},
   "outputs": [],
   "source": [
    "class Solution(object):\n",
    "    def increasingTriplet(self, nums):\n",
    "        \"\"\"\n",
    "        :type nums: List[int]\n",
    "        :rtype: bool\n",
    "        \"\"\"       "
   ]
  }
 ],
 "metadata": {
  "kernelspec": {
   "display_name": "simple",
   "language": "python",
   "name": "python3"
  },
  "language_info": {
   "name": "python",
   "version": "3.11.8"
  }
 },
 "nbformat": 4,
 "nbformat_minor": 2
}
