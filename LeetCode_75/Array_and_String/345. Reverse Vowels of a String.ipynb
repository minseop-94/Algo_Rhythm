{
 "cells": [
  {
   "cell_type": "markdown",
   "metadata": {},
   "source": [
    "### level : easy \n",
    "# Problem description\n",
    "Given a string s, reverse only all the vowels in the string and return it.\n",
    "The vowels are 'a', 'e', 'i', 'o', and 'u', and they can appear in both lower and upper cases, more than once.\n",
    "\n",
    "\n",
    "Example 1:\n",
    "Input: s = \"hello\"\n",
    "Output: \"holle\"\n",
    "\n",
    "\n",
    "Example 2:\n",
    "Input: s = \"leetcode\"\n",
    "Output: \"leotcede\"\n",
    "\n",
    "Constraints:\n",
    "1 <= s.length <= 3 * 105\n",
    "s consist of printable ASCII characters.\n",
    "        "
   ]
  },
  {
   "cell_type": "code",
   "execution_count": 17,
   "metadata": {},
   "outputs": [],
   "source": [
    "class Solution(object):\n",
    "    def reverseVowels(self, s):\n",
    "        \"\"\"\n",
    "        :type s: str\n",
    "        :rtype: str\n",
    "        \"\"\"\n",
    "        \n",
    "        vowels = ['a', 'e', 'i', 'o', 'u', 'A', 'E', 'I', 'O', 'U']\n",
    "        vowels_in_s = []\n",
    "        \n",
    "        s = list(s)\n",
    "        \n",
    "        for i in range(len(s)):\n",
    "            if s[i] in vowels:\n",
    "                vowels_in_s.insert(0, s[i])\n",
    "\n",
    "        \n",
    "        for i in range(len(s)):\n",
    "            if s[i] in vowels:\n",
    "                s[i] = vowels_in_s.pop(0)\n",
    "                \n",
    "        print(s)\n",
    "                \n",
    "        s = ''.join(s)\n",
    "        return s"
   ]
  },
  {
   "cell_type": "code",
   "execution_count": 3,
   "metadata": {},
   "outputs": [
    {
     "name": "stdout",
     "output_type": "stream",
     "text": [
      "a\n",
      "['e', 'i', 'o', 'u']\n"
     ]
    }
   ],
   "source": [
    "vowels = ['a', 'e', 'i', 'o', 'u']\n",
    "s = vowels.pop(0)\n",
    "print(s)\n",
    "print(vowels)"
   ]
  },
  {
   "cell_type": "markdown",
   "metadata": {},
   "source": [
    "### python에서 문자열을 못바꾸는구나..!\n",
    "The error message TypeError: 'unicode' object does not support item assignment means that \n",
    "\n",
    "you’re trying to change a character in a string (which is an immutable or ‘unchangeable’ type in Python) at a specific index, which is not allowed in Python."
   ]
  },
  {
   "cell_type": "code",
   "execution_count": 18,
   "metadata": {},
   "outputs": [
    {
     "name": "stdout",
     "output_type": "stream",
     "text": [
      "['e', 'p', 'p', 'l', 'a']\n",
      "eppla\n"
     ]
    }
   ],
   "source": [
    "solution = Solution()\n",
    "result = solution.reverseVowels('apple') \n",
    "print(result)"
   ]
  },
  {
   "cell_type": "code",
   "execution_count": null,
   "metadata": {},
   "outputs": [],
   "source": [
    "# convert the string to a list\n",
    "s = list(s)\n",
    "\n",
    "# now you can change the elements in the list\n",
    "s[i] = vowels_in_s.pop(0)\n",
    "\n",
    "# convert the list back to a string\n",
    "s = ''.join(s)"
   ]
  },
  {
   "cell_type": "markdown",
   "metadata": {},
   "source": [
    "### join list to str"
   ]
  },
  {
   "cell_type": "code",
   "execution_count": 10,
   "metadata": {},
   "outputs": [
    {
     "name": "stdout",
     "output_type": "stream",
     "text": [
      "a b\n"
     ]
    }
   ],
   "source": [
    "# create a list\n",
    "# my_list = ['Hello', 'world']\n",
    "my_list = ['a', 'b']\n",
    "\n",
    "\n",
    "# convert the list to a string\n",
    "my_str = ' '.join(my_list)\n",
    "\n",
    "print(my_str)  # Output: Hello world\n"
   ]
  },
  {
   "cell_type": "code",
   "execution_count": 11,
   "metadata": {},
   "outputs": [
    {
     "name": "stdout",
     "output_type": "stream",
     "text": [
      "Hello\n"
     ]
    }
   ],
   "source": [
    "# create a list\n",
    "my_list = ['H', 'e', 'l', 'l', 'o']\n",
    "\n",
    "# convert the list to a string without any space\n",
    "my_str = ''.join(my_list)\n",
    "\n",
    "print(my_str)  # Output: Hello\n"
   ]
  }
 ],
 "metadata": {
  "kernelspec": {
   "display_name": "simple",
   "language": "python",
   "name": "python3"
  },
  "language_info": {
   "codemirror_mode": {
    "name": "ipython",
    "version": 3
   },
   "file_extension": ".py",
   "mimetype": "text/x-python",
   "name": "python",
   "nbconvert_exporter": "python",
   "pygments_lexer": "ipython3",
   "version": "3.11.8"
  }
 },
 "nbformat": 4,
 "nbformat_minor": 2
}
